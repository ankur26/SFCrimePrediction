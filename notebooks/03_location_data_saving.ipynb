{
 "cells": [
  {
   "cell_type": "markdown",
   "metadata": {},
   "source": [
    "This script is to do the following\n",
    "1. Save the maximum and minimum values of latitude and longitude in a pickle file\n",
    "2. Get all the location values in the training and test set to set the location values for prediction. "
   ]
  },
  {
   "cell_type": "code",
   "execution_count": 1,
   "metadata": {},
   "outputs": [],
   "source": [
    "#import the necessary libraries\n",
    "import pandas as pd\n",
    "import pickle"
   ]
  },
  {
   "cell_type": "code",
   "execution_count": 2,
   "metadata": {},
   "outputs": [],
   "source": [
    "train_df = pd.read_csv(\"/storage/SFCrimePrediction/data/processed/train_processed.csv\")\n",
    "test_df = pd.read_csv(\"/storage/SFCrimePrediction/data/processed/test_processed.csv\")"
   ]
  },
  {
   "cell_type": "markdown",
   "metadata": {},
   "source": [
    "We need to estimate the data based of the closest estimate of the latitude and the longitude given to us from the user so if we have some values of 122 longitude and 37 latitude then we find the row which is closest to the value and then set the parameters accordingly.\n",
    "\n",
    "The parameters which we set are as follows:\n",
    "1. Police District\n",
    "2. Block number if present\n",
    "3. Street information if present"
   ]
  },
  {
   "cell_type": "code",
   "execution_count": 3,
   "metadata": {},
   "outputs": [],
   "source": [
    "merged = pd.concat([train_df,test_df],axis=1)"
   ]
  },
  {
   "cell_type": "code",
   "execution_count": 4,
   "metadata": {},
   "outputs": [],
   "source": [
    "merged.drop([\"Unnamed: 0\",\"Day\",\n",
    "            \"DayOfWeek\",\"Year\",\"Month\",\n",
    "            \"Hour\",\"Minute\"],axis=1,inplace=True) #Drop columns not needed\n",
    "merged.fillna(\"N/A\",inplace=True)"
   ]
  },
  {
   "cell_type": "code",
   "execution_count": 5,
   "metadata": {},
   "outputs": [
    {
     "data": {
      "text/html": [
       "<div>\n",
       "<style scoped>\n",
       "    .dataframe tbody tr th:only-of-type {\n",
       "        vertical-align: middle;\n",
       "    }\n",
       "\n",
       "    .dataframe tbody tr th {\n",
       "        vertical-align: top;\n",
       "    }\n",
       "\n",
       "    .dataframe thead th {\n",
       "        text-align: right;\n",
       "    }\n",
       "</style>\n",
       "<table border=\"1\" class=\"dataframe\">\n",
       "  <thead>\n",
       "    <tr style=\"text-align: right;\">\n",
       "      <th></th>\n",
       "      <th>PdDistrict</th>\n",
       "      <th>X</th>\n",
       "      <th>Y</th>\n",
       "      <th>street_1</th>\n",
       "      <th>street_2</th>\n",
       "      <th>block_present</th>\n",
       "      <th>block_number</th>\n",
       "      <th>block_on</th>\n",
       "      <th>Category</th>\n",
       "      <th>PdDistrict</th>\n",
       "      <th>X</th>\n",
       "      <th>Y</th>\n",
       "      <th>street_1</th>\n",
       "      <th>street_2</th>\n",
       "      <th>block_present</th>\n",
       "      <th>block_number</th>\n",
       "      <th>block_on</th>\n",
       "    </tr>\n",
       "  </thead>\n",
       "  <tbody>\n",
       "    <tr>\n",
       "      <th>0</th>\n",
       "      <td>NORTHERN</td>\n",
       "      <td>-122.426</td>\n",
       "      <td>37.7746</td>\n",
       "      <td>OAK ST</td>\n",
       "      <td>LAGUNA ST</td>\n",
       "      <td>0</td>\n",
       "      <td>-1</td>\n",
       "      <td>N/A</td>\n",
       "      <td>WARRANTS</td>\n",
       "      <td>BAYVIEW</td>\n",
       "      <td>-122.399588</td>\n",
       "      <td>37.735051</td>\n",
       "      <td>N/A</td>\n",
       "      <td>N/A</td>\n",
       "      <td>1</td>\n",
       "      <td>2000</td>\n",
       "      <td>THOMAS AV</td>\n",
       "    </tr>\n",
       "    <tr>\n",
       "      <th>1</th>\n",
       "      <td>NORTHERN</td>\n",
       "      <td>-122.426</td>\n",
       "      <td>37.7746</td>\n",
       "      <td>OAK ST</td>\n",
       "      <td>LAGUNA ST</td>\n",
       "      <td>0</td>\n",
       "      <td>-1</td>\n",
       "      <td>N/A</td>\n",
       "      <td>OTHER OFFENSES</td>\n",
       "      <td>BAYVIEW</td>\n",
       "      <td>-122.391523</td>\n",
       "      <td>37.732432</td>\n",
       "      <td>3RD ST</td>\n",
       "      <td>REVERE AV</td>\n",
       "      <td>0</td>\n",
       "      <td>-1</td>\n",
       "      <td>N/A</td>\n",
       "    </tr>\n",
       "    <tr>\n",
       "      <th>2</th>\n",
       "      <td>NORTHERN</td>\n",
       "      <td>-122.424</td>\n",
       "      <td>37.8004</td>\n",
       "      <td>VANNESS AV</td>\n",
       "      <td>GREENWICH ST</td>\n",
       "      <td>0</td>\n",
       "      <td>-1</td>\n",
       "      <td>N/A</td>\n",
       "      <td>OTHER OFFENSES</td>\n",
       "      <td>NORTHERN</td>\n",
       "      <td>-122.426002</td>\n",
       "      <td>37.792212</td>\n",
       "      <td>N/A</td>\n",
       "      <td>N/A</td>\n",
       "      <td>1</td>\n",
       "      <td>2000</td>\n",
       "      <td>GOUGH ST</td>\n",
       "    </tr>\n",
       "    <tr>\n",
       "      <th>3</th>\n",
       "      <td>NORTHERN</td>\n",
       "      <td>-122.427</td>\n",
       "      <td>37.8009</td>\n",
       "      <td>N/A</td>\n",
       "      <td>N/A</td>\n",
       "      <td>1</td>\n",
       "      <td>1500</td>\n",
       "      <td>LOMBARD ST</td>\n",
       "      <td>LARCENY/THEFT</td>\n",
       "      <td>INGLESIDE</td>\n",
       "      <td>-122.437394</td>\n",
       "      <td>37.721412</td>\n",
       "      <td>N/A</td>\n",
       "      <td>N/A</td>\n",
       "      <td>1</td>\n",
       "      <td>4700</td>\n",
       "      <td>MISSION ST</td>\n",
       "    </tr>\n",
       "    <tr>\n",
       "      <th>4</th>\n",
       "      <td>PARK</td>\n",
       "      <td>-122.439</td>\n",
       "      <td>37.7715</td>\n",
       "      <td>N/A</td>\n",
       "      <td>N/A</td>\n",
       "      <td>1</td>\n",
       "      <td>100</td>\n",
       "      <td>BRODERICK ST</td>\n",
       "      <td>LARCENY/THEFT</td>\n",
       "      <td>INGLESIDE</td>\n",
       "      <td>-122.437394</td>\n",
       "      <td>37.721412</td>\n",
       "      <td>N/A</td>\n",
       "      <td>N/A</td>\n",
       "      <td>1</td>\n",
       "      <td>4700</td>\n",
       "      <td>MISSION ST</td>\n",
       "    </tr>\n",
       "  </tbody>\n",
       "</table>\n",
       "</div>"
      ],
      "text/plain": [
       "  PdDistrict        X        Y     street_1       street_2  block_present  \\\n",
       "0   NORTHERN -122.426  37.7746      OAK ST       LAGUNA ST              0   \n",
       "1   NORTHERN -122.426  37.7746      OAK ST       LAGUNA ST              0   \n",
       "2   NORTHERN -122.424  37.8004  VANNESS AV    GREENWICH ST              0   \n",
       "3   NORTHERN -122.427  37.8009          N/A            N/A              1   \n",
       "4       PARK -122.439  37.7715          N/A            N/A              1   \n",
       "\n",
       "   block_number       block_on        Category PdDistrict           X  \\\n",
       "0            -1            N/A        WARRANTS    BAYVIEW -122.399588   \n",
       "1            -1            N/A  OTHER OFFENSES    BAYVIEW -122.391523   \n",
       "2            -1            N/A  OTHER OFFENSES   NORTHERN -122.426002   \n",
       "3          1500     LOMBARD ST   LARCENY/THEFT  INGLESIDE -122.437394   \n",
       "4           100   BRODERICK ST   LARCENY/THEFT  INGLESIDE -122.437394   \n",
       "\n",
       "           Y street_1    street_2  block_present  block_number     block_on  \n",
       "0  37.735051      N/A         N/A              1          2000    THOMAS AV  \n",
       "1  37.732432  3RD ST    REVERE AV              0            -1          N/A  \n",
       "2  37.792212      N/A         N/A              1          2000     GOUGH ST  \n",
       "3  37.721412      N/A         N/A              1          4700   MISSION ST  \n",
       "4  37.721412      N/A         N/A              1          4700   MISSION ST  "
      ]
     },
     "execution_count": 5,
     "metadata": {},
     "output_type": "execute_result"
    }
   ],
   "source": [
    "merged.head()"
   ]
  },
  {
   "cell_type": "code",
   "execution_count": 7,
   "metadata": {},
   "outputs": [],
   "source": [
    "file =  open(\"/storage/SFCrimePrediction/deployment/location_dict\",\"wb+\")\n",
    "location_dict = {\"max_longitude\":merged.X.max(),\n",
    "                 \"min_longitude\":merged.X.min(),\n",
    "                 \"max_latitude\":merged.Y.max(),\n",
    "                 \"min_latitude\":merged.Y.min()}\n",
    "pickle.dump(location_dict,file)"
   ]
  },
  {
   "cell_type": "code",
   "execution_count": 8,
   "metadata": {},
   "outputs": [],
   "source": [
    "merged.to_csv(\"/storage/SFCrimePrediction/deployment/location.csv\")"
   ]
  },
  {
   "cell_type": "markdown",
   "metadata": {},
   "source": [
    "That concludes the script to save the location data for usage by the front end which is developed using <a href=\"https://www.streamlit.io/\">streamlit.io</a>\n",
    "\n",
    "To find the code for the front end here is the link :<a href=\"https://github.com/ankur26/SFCrimePrediction/blob/master/deployment/intro.py\">Link</a>"
   ]
  }
 ],
 "metadata": {
  "kernelspec": {
   "display_name": "Python 3",
   "language": "python",
   "name": "python3"
  },
  "language_info": {
   "codemirror_mode": {
    "name": "ipython",
    "version": 3
   },
   "file_extension": ".py",
   "mimetype": "text/x-python",
   "name": "python",
   "nbconvert_exporter": "python",
   "pygments_lexer": "ipython3",
   "version": "3.6.9"
  }
 },
 "nbformat": 4,
 "nbformat_minor": 4
}
