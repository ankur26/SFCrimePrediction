{
 "cells": [
  {
   "cell_type": "markdown",
   "metadata": {},
   "source": [
    "This script is to do the following\n",
    "1. Save the maximum and minimum values of latitude and longitude in a pickle file\n",
    "2. Get all the location values in the training and test set to set the location values for prediction. "
   ]
  },
  {
   "cell_type": "code",
   "execution_count": 24,
   "metadata": {},
   "outputs": [],
   "source": [
    "#import the necessary libraries\n",
    "import pandas as pd\n",
    "import json"
   ]
  },
  {
   "cell_type": "code",
   "execution_count": 25,
   "metadata": {},
   "outputs": [],
   "source": [
    "train_df = pd.read_csv(\"/storage/SFCrimePrediction/data/processed/train_processed.csv\")\n",
    "test_df = pd.read_csv(\"/storage/SFCrimePrediction/data/processed/test_processed.csv\")"
   ]
  },
  {
   "cell_type": "markdown",
   "metadata": {},
   "source": [
    "We need to estimate the data based of the closest estimate of the latitude and the longitude given to us from the user so if we have some values of 122 longitude and 37 latitude then we find the row which is closest to the value and then set the parameters accordingly.\n",
    "\n",
    "The parameters which we set are as follows:\n",
    "1. Police District\n",
    "2. Block number if present\n",
    "3. Street information if present"
   ]
  },
  {
   "cell_type": "code",
   "execution_count": 26,
   "metadata": {},
   "outputs": [],
   "source": [
    "merged = pd.concat([train_df,test_df],axis=0,sort=True)"
   ]
  },
  {
   "cell_type": "code",
   "execution_count": 27,
   "metadata": {},
   "outputs": [],
   "source": [
    "merged.drop([\"Unnamed: 0\",\"Category\",\"Day\",\n",
    "            \"DayOfWeek\",\"Year\",\"Month\",\n",
    "            \"Hour\",\"Minute\"],axis=1,inplace=True) #Drop columns not needed\n",
    "merged.fillna(\"N/A\",inplace=True)"
   ]
  },
  {
   "cell_type": "code",
   "execution_count": 28,
   "metadata": {},
   "outputs": [],
   "source": [
    "merged = merged[merged[\"Y\"] < 40]"
   ]
  },
  {
   "cell_type": "code",
   "execution_count": 29,
   "metadata": {},
   "outputs": [],
   "source": [
    "file =  open(\"/storage/SFCrimePrediction/deployment/location_dict.txt\",\"w+\")\n",
    "location_dict = {\"max_longitude\":merged[\"X\"].max(),\n",
    "                 \"min_longitude\":merged[\"X\"].min(),\n",
    "                 \"max_latitude\":merged[\"Y\"].max(),\n",
    "                 \"min_latitude\":merged[\"Y\"].min()}\n",
    "json.dump(location_dict,file)"
   ]
  },
  {
   "cell_type": "code",
   "execution_count": 30,
   "metadata": {},
   "outputs": [],
   "source": [
    "merged.to_csv(\"/storage/SFCrimePrediction/deployment/location.csv\")"
   ]
  },
  {
   "cell_type": "markdown",
   "metadata": {},
   "source": [
    "That concludes the script to save the location data for usage by the front end which is developed using <a href=\"https://www.streamlit.io/\">streamlit.io</a>\n",
    "\n",
    "To find the code for the front end here is the link :<a href=\"https://github.com/ankur26/SFCrimePrediction/blob/master/deployment/intro.py\">Link</a>"
   ]
  }
 ],
 "metadata": {
  "kernelspec": {
   "display_name": "Python 3",
   "language": "python",
   "name": "python3"
  },
  "language_info": {
   "codemirror_mode": {
    "name": "ipython",
    "version": 3
   },
   "file_extension": ".py",
   "mimetype": "text/x-python",
   "name": "python",
   "nbconvert_exporter": "python",
   "pygments_lexer": "ipython3",
   "version": "3.6.9"
  }
 },
 "nbformat": 4,
 "nbformat_minor": 4
}
