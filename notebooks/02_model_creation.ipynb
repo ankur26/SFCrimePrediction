{
 "cells": [
  {
   "cell_type": "markdown",
   "metadata": {},
   "source": [
    "# Model creation on San Francisco Crime Data\n",
    "\n",
    "To give an introduction this is the second notebook on the model deployment process that I will try to achieve . We initially did some data exploration to remove outliers and used Vaex library to process data and save the processed data in  parquet file format for further usage. <a>Link to first notebook </a>\n",
    "\n",
    "This notebook will entail the model creation process and we will save the best fitted model into a pickle file to be used for deployment.\n",
    "\n",
    "To save further time on this process to find a reasonable fitting model we will be using an AutoML library to fit the data which will give us a good enough model to deploy. The library we will be using is Auto-Sklearn <a>Link</a>"
   ]
  },
  {
   "cell_type": "code",
   "execution_count": null,
   "metadata": {},
   "outputs": [],
   "source": [
    "import pandas as pd"
   ]
  }
 ],
 "metadata": {
  "kernelspec": {
   "display_name": "Python 3",
   "language": "python",
   "name": "python3"
  },
  "language_info": {
   "codemirror_mode": {
    "name": "ipython",
    "version": 3
   },
   "file_extension": ".py",
   "mimetype": "text/x-python",
   "name": "python",
   "nbconvert_exporter": "python",
   "pygments_lexer": "ipython3",
   "version": "3.7.4"
  }
 },
 "nbformat": 4,
 "nbformat_minor": 2
}
